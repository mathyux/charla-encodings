{
 "metadata": {
  "name": ""
 },
 "nbformat": 3,
 "nbformat_minor": 0,
 "worksheets": [
  {
   "cells": [
    {
     "cell_type": "markdown",
     "metadata": {},
     "source": [
      "<div style=\"text-align:center\">\n",
      "    <img src =\"files/images/unicode.png\" heigth=\"100\" width=\"200\"/>\n",
      "</div>"
     ]
    },
    {
     "cell_type": "markdown",
     "metadata": {},
     "source": [
      "# Un nuevo convenio\n",
      "Unicode lo forma un grupo de gente [unicode consortium](http://www.unicode.org) y hacen una tabla mucho mas ambiciosa.\n",
      "* Compila todos los caracteres posibles, incluidos [runas](http://www.unicode.org/charts/PDF/U16A0.pdf) o [braille](http://www.unicode.org/charts/PDF/U2800.pdf)!\n",
      "* Que glifo tiene un caracter\n",
      "* Que codigo tiene un caracter\n",
      "* Como se juntan los caracteres con modificadores (tildes, virgulillas y demas)\n"
     ]
    },
    {
     "cell_type": "markdown",
     "metadata": {},
     "source": [
      "## Un caracter unicode"
     ]
    },
    {
     "cell_type": "code",
     "collapsed": false,
     "input": [
      "import unicodedata \n",
      "\n",
      "x = \"\\ufb72\" # Elegir cualquiera de los pdfs \n",
      "\n",
      "hex(ord(x)),x,unicodedata.name(x)\n"
     ],
     "language": "python",
     "metadata": {},
     "outputs": [
      {
       "metadata": {},
       "output_type": "pyout",
       "prompt_number": 83,
       "text": [
        "('0x61', 'a', 'LATIN SMALL LETTER A')"
       ]
      }
     ],
     "prompt_number": 83
    },
    {
     "cell_type": "markdown",
     "metadata": {},
     "source": [
      "## Serializamos\n",
      "Es decir pasamos a 1s y 0s nuestra letra etiope"
     ]
    },
    {
     "cell_type": "code",
     "collapsed": false,
     "input": [
      "x.encode(\"utf8\")"
     ],
     "language": "python",
     "metadata": {},
     "outputs": [
      {
       "metadata": {},
       "output_type": "pyout",
       "prompt_number": 84,
       "text": [
        "b'a'"
       ]
      }
     ],
     "prompt_number": 84
    },
    {
     "cell_type": "code",
     "collapsed": false,
     "input": [
      "x.encode(\"utf16\")"
     ],
     "language": "python",
     "metadata": {},
     "outputs": [
      {
       "metadata": {},
       "output_type": "pyout",
       "prompt_number": 85,
       "text": [
        "b'\\xff\\xfea\\x00'"
       ]
      }
     ],
     "prompt_number": 85
    },
    {
     "cell_type": "code",
     "collapsed": false,
     "input": [
      "x.encode(\"utf32\")"
     ],
     "language": "python",
     "metadata": {},
     "outputs": [
      {
       "metadata": {},
       "output_type": "pyout",
       "prompt_number": 86,
       "text": [
        "b'\\xff\\xfe\\x00\\x00a\\x00\\x00\\x00'"
       ]
      }
     ],
     "prompt_number": 86
    },
    {
     "cell_type": "markdown",
     "metadata": {},
     "source": [
      "Ojo que puede haber gol"
     ]
    },
    {
     "cell_type": "code",
     "collapsed": false,
     "input": [
      "x.encode(\"ascii\")"
     ],
     "language": "python",
     "metadata": {},
     "outputs": [
      {
       "metadata": {},
       "output_type": "pyout",
       "prompt_number": 87,
       "text": [
        "b'a'"
       ]
      }
     ],
     "prompt_number": 87
    },
    {
     "cell_type": "code",
     "collapsed": false,
     "input": [
      "x.encode(\"latin1\")"
     ],
     "language": "python",
     "metadata": {},
     "outputs": [
      {
       "metadata": {},
       "output_type": "pyout",
       "prompt_number": 88,
       "text": [
        "b'a'"
       ]
      }
     ],
     "prompt_number": 88
    },
    {
     "cell_type": "code",
     "collapsed": false,
     "input": [],
     "language": "python",
     "metadata": {},
     "outputs": [],
     "prompt_number": 88
    }
   ],
   "metadata": {}
  }
 ]
}